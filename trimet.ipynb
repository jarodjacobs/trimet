{
 "cells": [
  {
   "cell_type": "markdown",
   "metadata": {},
   "source": [
    "\n",
    "Making MAX More Reliable\n",
    "Working toward an average of 90% on-time performance\n",
    "\n",
    "We’re focused on making MAX better — and that means providing more reliable service, safely. On average in 2015, about one in every five trips was delayed. We know how frustrating this can be for our riders — you’ve got places you need to be and it’s our responsibility to help get you there on time. That’s why we’re addressing many of the areas that affect our system’s on-time performance, including maintenance, training and partnerships.\n",
    "\n",
    "Our long-term goal is to raise on-time performance to 90 percent.\n",
    "\n",
    "MAX is a very complex system that operates about 22½ hours a day with a fleet of 145 vehicles. Right now approximately one-third of MAX delays involve events beyond our immediate control, like cars blocking the tracks or passengers in need of medical attention. The other two-thirds, however, fall within our direct control, including trains with mechanical issues, signals malfunctioning, stuck switches or many other operating issues. "
   ]
  },
  {
   "cell_type": "code",
   "execution_count": 4,
   "metadata": {
    "collapsed": true
   },
   "outputs": [],
   "source": [
    "import matplotlib.pyplot as plt\n",
    "import numpy as np\n",
    "import pandas as pd\n",
    "import seaborn as sns\n",
    "\n",
    "import google.datalab.storage as storage\n",
    "from io import BytesIO"
   ]
  },
  {
   "cell_type": "markdown",
   "metadata": {},
   "source": [
    "load csv from GCP storage"
   ]
  },
  {
   "cell_type": "code",
   "execution_count": 5,
   "metadata": {
    "collapsed": false
   },
   "outputs": [
    {
     "data": {
      "text/html": [
       "<div>\n",
       "<style scoped>\n",
       "    .dataframe tbody tr th:only-of-type {\n",
       "        vertical-align: middle;\n",
       "    }\n",
       "\n",
       "    .dataframe tbody tr th {\n",
       "        vertical-align: top;\n",
       "    }\n",
       "\n",
       "    .dataframe thead th {\n",
       "        text-align: right;\n",
       "    }\n",
       "</style>\n",
       "<table border=\"1\" class=\"dataframe\">\n",
       "  <thead>\n",
       "    <tr style=\"text-align: right;\">\n",
       "      <th></th>\n",
       "      <th>delay</th>\n",
       "      <th>timestamp</th>\n",
       "      <th>lastLocID</th>\n",
       "      <th>lastStopSeq</th>\n",
       "      <th>nextLocID</th>\n",
       "      <th>nextStopSeq</th>\n",
       "      <th>routeNumber</th>\n",
       "      <th>tripID</th>\n",
       "      <th>type</th>\n",
       "      <th>vehicle_location_longitude</th>\n",
       "      <th>vehicle_location_latitude</th>\n",
       "    </tr>\n",
       "  </thead>\n",
       "  <tbody>\n",
       "    <tr>\n",
       "      <th>0</th>\n",
       "      <td>-311</td>\n",
       "      <td>2016-09-01 15:29:43 UTC</td>\n",
       "      <td>7601</td>\n",
       "      <td>1</td>\n",
       "      <td>9303</td>\n",
       "      <td>2</td>\n",
       "      <td>150</td>\n",
       "      <td>6621323</td>\n",
       "      <td>rail</td>\n",
       "      <td>-122.675465</td>\n",
       "      <td>45.524836</td>\n",
       "    </tr>\n",
       "    <tr>\n",
       "      <th>1</th>\n",
       "      <td>-263</td>\n",
       "      <td>2016-09-03 01:11:53 UTC</td>\n",
       "      <td>7601</td>\n",
       "      <td>1</td>\n",
       "      <td>9303</td>\n",
       "      <td>2</td>\n",
       "      <td>150</td>\n",
       "      <td>6621352</td>\n",
       "      <td>rail</td>\n",
       "      <td>-122.675465</td>\n",
       "      <td>45.524836</td>\n",
       "    </tr>\n",
       "    <tr>\n",
       "      <th>2</th>\n",
       "      <td>-305</td>\n",
       "      <td>2016-09-02 00:31:35 UTC</td>\n",
       "      <td>7601</td>\n",
       "      <td>1</td>\n",
       "      <td>9303</td>\n",
       "      <td>2</td>\n",
       "      <td>150</td>\n",
       "      <td>6621350</td>\n",
       "      <td>rail</td>\n",
       "      <td>-122.675465</td>\n",
       "      <td>45.524836</td>\n",
       "    </tr>\n",
       "    <tr>\n",
       "      <th>3</th>\n",
       "      <td>-393</td>\n",
       "      <td>2016-09-03 04:11:04 UTC</td>\n",
       "      <td>7601</td>\n",
       "      <td>1</td>\n",
       "      <td>9303</td>\n",
       "      <td>2</td>\n",
       "      <td>150</td>\n",
       "      <td>6621361</td>\n",
       "      <td>rail</td>\n",
       "      <td>-122.675465</td>\n",
       "      <td>45.524836</td>\n",
       "    </tr>\n",
       "    <tr>\n",
       "      <th>4</th>\n",
       "      <td>-176</td>\n",
       "      <td>2016-09-01 16:33:27 UTC</td>\n",
       "      <td>7601</td>\n",
       "      <td>1</td>\n",
       "      <td>9303</td>\n",
       "      <td>2</td>\n",
       "      <td>150</td>\n",
       "      <td>6621326</td>\n",
       "      <td>rail</td>\n",
       "      <td>-122.675465</td>\n",
       "      <td>45.524836</td>\n",
       "    </tr>\n",
       "  </tbody>\n",
       "</table>\n",
       "</div>"
      ],
      "text/plain": [
       "   delay                timestamp  lastLocID  lastStopSeq  nextLocID  \\\n",
       "0   -311  2016-09-01 15:29:43 UTC       7601            1       9303   \n",
       "1   -263  2016-09-03 01:11:53 UTC       7601            1       9303   \n",
       "2   -305  2016-09-02 00:31:35 UTC       7601            1       9303   \n",
       "3   -393  2016-09-03 04:11:04 UTC       7601            1       9303   \n",
       "4   -176  2016-09-01 16:33:27 UTC       7601            1       9303   \n",
       "\n",
       "   nextStopSeq  routeNumber   tripID  type  vehicle_location_longitude  \\\n",
       "0            2          150  6621323  rail                 -122.675465   \n",
       "1            2          150  6621352  rail                 -122.675465   \n",
       "2            2          150  6621350  rail                 -122.675465   \n",
       "3            2          150  6621361  rail                 -122.675465   \n",
       "4            2          150  6621326  rail                 -122.675465   \n",
       "\n",
       "   vehicle_location_latitude  \n",
       "0                  45.524836  \n",
       "1                  45.524836  \n",
       "2                  45.524836  \n",
       "3                  45.524836  \n",
       "4                  45.524836  "
      ]
     },
     "execution_count": 5,
     "metadata": {},
     "output_type": "execute_result"
    }
   ],
   "source": [
    "mybucket = storage.Bucket('jjacobsbucket/Thinkful')\n",
    "rail = mybucket.object('rail_data_sub.csv')\n",
    "\n",
    "uri = rail.uri\n",
    "%gcs read --object $uri --variable data\n",
    "\n",
    "rail = pd.read_csv(BytesIO(data))\n",
    "rail.head()"
   ]
  },
  {
   "cell_type": "markdown",
   "metadata": {},
   "source": [
    "View head to make sure the file loaded as expected."
   ]
  },
  {
   "cell_type": "markdown",
   "metadata": {},
   "source": [
    "Start exploration of data with a histogram. This histrogram shows us the number of delays grouped by length of delay. We see that most trips or sligthly delayed, a good portion are ahead of schedule, some are behind schedule. Of note is the small bin representing trains that are roughly more than 5 minutes ahead of schedule. This may be a problem with the data since Trimet trains will stop when they are more than a minute ahead of schedule."
   ]
  },
  {
   "cell_type": "code",
   "execution_count": 6,
   "metadata": {
    "collapsed": false
   },
   "outputs": [
    {
     "name": "stderr",
     "output_type": "stream",
     "text": [
      "/usr/local/envs/py3env/lib/python3.5/site-packages/matplotlib/font_manager.py:1320: UserWarning: findfont: Font family ['sans-serif'] not found. Falling back to DejaVu Sans\n",
      "  (prop.get_family(), self.defaultFamily[fontext]))\n"
     ]
    },
    {
     "data": {
      "image/png": "[encoded data removed]",
      "text/plain": [
       "<matplotlib.figure.Figure at 0x7fe8d15adf60>"
      ]
     },
     "metadata": {},
     "output_type": "display_data"
    }
   ],
   "source": [
    "rail.delay.hist(bins=6)\n",
    "plt.ylabel('Number of Delays')\n",
    "plt.xlabel('Delay in Seconds')\n",
    "plt.title('Histogram of Delays')\n",
    "plt.show()"
   ]
  },
  {
   "cell_type": "markdown",
   "metadata": {},
   "source": [
    "Explore the data further by using a box plot. We see that five of the train routes have very similar profiles, while route 150 has a significantly higher rate of delays"
   ]
  },
  {
   "cell_type": "code",
   "execution_count": 41,
   "metadata": {
    "collapsed": false
   },
   "outputs": [
    {
     "name": "stderr",
     "output_type": "stream",
     "text": [
      "/usr/local/envs/py3env/lib/python3.5/site-packages/seaborn/categorical.py:450: FutureWarning: remove_na is deprecated and is a private function. Do not use.\n",
      "  box_data = remove_na(group_data)\n",
      "/usr/local/envs/py3env/lib/python3.5/site-packages/matplotlib/font_manager.py:1320: UserWarning: findfont: Font family ['sans-serif'] not found. Falling back to DejaVu Sans\n",
      "  (prop.get_family(), self.defaultFamily[fontext]))\n"
     ]
    },
    {
     "data": {
      "image/png": "[encoded data removed]",
      "text/plain": [
       "<matplotlib.figure.Figure at 0x7fe8151f80f0>"
      ]
     },
     "metadata": {},
     "output_type": "display_data"
    }
   ],
   "source": [
    "sns.boxplot(x='routeNumber', y='delay', data=rail)\n",
    "plt.ylabel('Delay in Seconds')\n",
    "plt.show()"
   ]
  },
  {
   "cell_type": "markdown",
   "metadata": {},
   "source": [
    "This bar plot shows us that route 150 clearly has a much higher average delay than the other routes."
   ]
  },
  {
   "cell_type": "code",
   "execution_count": 8,
   "metadata": {
    "collapsed": false
   },
   "outputs": [
    {
     "name": "stderr",
     "output_type": "stream",
     "text": [
      "/usr/local/envs/py3env/lib/python3.5/site-packages/seaborn/categorical.py:1424: FutureWarning: remove_na is deprecated and is a private function. Do not use.\n",
      "  stat_data = remove_na(group_data)\n",
      "/usr/local/envs/py3env/lib/python3.5/site-packages/matplotlib/font_manager.py:1320: UserWarning: findfont: Font family ['sans-serif'] not found. Falling back to DejaVu Sans\n",
      "  (prop.get_family(), self.defaultFamily[fontext]))\n"
     ]
    },
    {
     "data": {
      "image/png": "[encoded data removed]",
      "text/plain": [
       "<matplotlib.figure.Figure at 0x7fe8cb71f048>"
      ]
     },
     "metadata": {},
     "output_type": "display_data"
    }
   ],
   "source": [
    "sns.barplot(x='routeNumber', y='delay', data=rail)\n",
    "plt.ylabel('Average Delay')\n",
    "plt.xlabel('Route Number')\n",
    "plt.title('Average of Delay per Route')\n",
    "plt.show()"
   ]
  },
  {
   "cell_type": "markdown",
   "metadata": {},
   "source": [
    "This bar chart show the number of trips run on each route. Of importance is the very low number of trips run on route 150. I suspect that this route is run for special events, like NBA games that are more likely to have delays due to large passenger loads."
   ]
  },
  {
   "cell_type": "code",
   "execution_count": 9,
   "metadata": {
    "collapsed": false
   },
   "outputs": [
    {
     "name": "stderr",
     "output_type": "stream",
     "text": [
      "/usr/local/envs/py3env/lib/python3.5/site-packages/matplotlib/font_manager.py:1320: UserWarning: findfont: Font family ['sans-serif'] not found. Falling back to DejaVu Sans\n",
      "  (prop.get_family(), self.defaultFamily[fontext]))\n"
     ]
    },
    {
     "data": {
      "image/png": "[encoded data removed]",
      "text/plain": [
       "<matplotlib.figure.Figure at 0x7fe8cb655128>"
      ]
     },
     "metadata": {},
     "output_type": "display_data"
    }
   ],
   "source": [
    "rail.delay.groupby(rail.routeNumber).count().plot(kind='bar')\n",
    "plt.ylabel('Number of Trips')\n",
    "plt.xlabel('Route Number')\n",
    "plt.title('Number of Delays per Route')\n",
    "plt.show()"
   ]
  },
  {
   "cell_type": "markdown",
   "metadata": {},
   "source": [
    "Continue data exploration with .describe."
   ]
  },
  {
   "cell_type": "code",
   "execution_count": 10,
   "metadata": {
    "collapsed": false
   },
   "outputs": [
    {
     "data": {
      "text/html": [
       "<div>\n",
       "<style scoped>\n",
       "    .dataframe tbody tr th:only-of-type {\n",
       "        vertical-align: middle;\n",
       "    }\n",
       "\n",
       "    .dataframe tbody tr th {\n",
       "        vertical-align: top;\n",
       "    }\n",
       "\n",
       "    .dataframe thead th {\n",
       "        text-align: right;\n",
       "    }\n",
       "</style>\n",
       "<table border=\"1\" class=\"dataframe\">\n",
       "  <thead>\n",
       "    <tr style=\"text-align: right;\">\n",
       "      <th></th>\n",
       "      <th>count</th>\n",
       "      <th>mean</th>\n",
       "      <th>std</th>\n",
       "      <th>min</th>\n",
       "      <th>25%</th>\n",
       "      <th>50%</th>\n",
       "      <th>75%</th>\n",
       "      <th>max</th>\n",
       "    </tr>\n",
       "    <tr>\n",
       "      <th>routeNumber</th>\n",
       "      <th></th>\n",
       "      <th></th>\n",
       "      <th></th>\n",
       "      <th></th>\n",
       "      <th></th>\n",
       "      <th></th>\n",
       "      <th></th>\n",
       "      <th></th>\n",
       "    </tr>\n",
       "  </thead>\n",
       "  <tbody>\n",
       "    <tr>\n",
       "      <th>90</th>\n",
       "      <td>698335.0</td>\n",
       "      <td>-97.955729</td>\n",
       "      <td>208.697496</td>\n",
       "      <td>-1000.0</td>\n",
       "      <td>-120.0</td>\n",
       "      <td>-35.0</td>\n",
       "      <td>9.00</td>\n",
       "      <td>1047.0</td>\n",
       "    </tr>\n",
       "    <tr>\n",
       "      <th>100</th>\n",
       "      <td>2026685.0</td>\n",
       "      <td>-115.173086</td>\n",
       "      <td>217.859116</td>\n",
       "      <td>-1000.0</td>\n",
       "      <td>-153.0</td>\n",
       "      <td>-44.0</td>\n",
       "      <td>6.00</td>\n",
       "      <td>1047.0</td>\n",
       "    </tr>\n",
       "    <tr>\n",
       "      <th>150</th>\n",
       "      <td>1292.0</td>\n",
       "      <td>-364.814241</td>\n",
       "      <td>173.663210</td>\n",
       "      <td>-796.0</td>\n",
       "      <td>-478.0</td>\n",
       "      <td>-412.0</td>\n",
       "      <td>-289.75</td>\n",
       "      <td>368.0</td>\n",
       "    </tr>\n",
       "    <tr>\n",
       "      <th>190</th>\n",
       "      <td>478217.0</td>\n",
       "      <td>-116.586972</td>\n",
       "      <td>183.535165</td>\n",
       "      <td>-1000.0</td>\n",
       "      <td>-167.0</td>\n",
       "      <td>-66.0</td>\n",
       "      <td>-3.00</td>\n",
       "      <td>1046.0</td>\n",
       "    </tr>\n",
       "    <tr>\n",
       "      <th>200</th>\n",
       "      <td>718528.0</td>\n",
       "      <td>-95.077408</td>\n",
       "      <td>183.167709</td>\n",
       "      <td>-1000.0</td>\n",
       "      <td>-125.0</td>\n",
       "      <td>-46.0</td>\n",
       "      <td>0.00</td>\n",
       "      <td>1047.0</td>\n",
       "    </tr>\n",
       "    <tr>\n",
       "      <th>290</th>\n",
       "      <td>485016.0</td>\n",
       "      <td>-106.159636</td>\n",
       "      <td>174.586435</td>\n",
       "      <td>-1000.0</td>\n",
       "      <td>-146.0</td>\n",
       "      <td>-61.0</td>\n",
       "      <td>-8.00</td>\n",
       "      <td>1047.0</td>\n",
       "    </tr>\n",
       "  </tbody>\n",
       "</table>\n",
       "</div>"
      ],
      "text/plain": [
       "                 count        mean         std     min    25%    50%     75%  \\\n",
       "routeNumber                                                                    \n",
       "90            698335.0  -97.955729  208.697496 -1000.0 -120.0  -35.0    9.00   \n",
       "100          2026685.0 -115.173086  217.859116 -1000.0 -153.0  -44.0    6.00   \n",
       "150             1292.0 -364.814241  173.663210  -796.0 -478.0 -412.0 -289.75   \n",
       "190           478217.0 -116.586972  183.535165 -1000.0 -167.0  -66.0   -3.00   \n",
       "200           718528.0  -95.077408  183.167709 -1000.0 -125.0  -46.0    0.00   \n",
       "290           485016.0 -106.159636  174.586435 -1000.0 -146.0  -61.0   -8.00   \n",
       "\n",
       "                max  \n",
       "routeNumber          \n",
       "90           1047.0  \n",
       "100          1047.0  \n",
       "150           368.0  \n",
       "190          1046.0  \n",
       "200          1047.0  \n",
       "290          1047.0  "
      ]
     },
     "execution_count": 10,
     "metadata": {},
     "output_type": "execute_result"
    }
   ],
   "source": [
    "rail.delay.groupby(rail.routeNumber).describe()"
   ]
  },
  {
   "cell_type": "markdown",
   "metadata": {},
   "source": [
    "There is something odd about the max delays; all but route 150 are 1046/7. This is something that should be looked into further, but withou access to metadata regarding this dataset and the people who developed the data collection process, I cannot explore this further."
   ]
  },
  {
   "cell_type": "markdown",
   "metadata": {},
   "source": [
    "Trimet states that MAX is considered “on time” if it departs the station no more than 1 minute early and no more than 5 minutes late. Here I create a new column - on_time - that marks a trip as on time with a 0 and not on time with a 1."
   ]
  },
  {
   "cell_type": "code",
   "execution_count": 19,
   "metadata": {
    "collapsed": false
   },
   "outputs": [
    {
     "data": {
      "text/html": [
       "<div>\n",
       "<style scoped>\n",
       "    .dataframe tbody tr th:only-of-type {\n",
       "        vertical-align: middle;\n",
       "    }\n",
       "\n",
       "    .dataframe tbody tr th {\n",
       "        vertical-align: top;\n",
       "    }\n",
       "\n",
       "    .dataframe thead th {\n",
       "        text-align: right;\n",
       "    }\n",
       "</style>\n",
       "<table border=\"1\" class=\"dataframe\">\n",
       "  <thead>\n",
       "    <tr style=\"text-align: right;\">\n",
       "      <th></th>\n",
       "      <th>delay</th>\n",
       "      <th>timestamp</th>\n",
       "      <th>lastLocID</th>\n",
       "      <th>lastStopSeq</th>\n",
       "      <th>nextLocID</th>\n",
       "      <th>nextStopSeq</th>\n",
       "      <th>routeNumber</th>\n",
       "      <th>tripID</th>\n",
       "      <th>type</th>\n",
       "      <th>vehicle_location_longitude</th>\n",
       "      <th>vehicle_location_latitude</th>\n",
       "      <th>on_time</th>\n",
       "    </tr>\n",
       "  </thead>\n",
       "  <tbody>\n",
       "    <tr>\n",
       "      <th>0</th>\n",
       "      <td>-311</td>\n",
       "      <td>2016-09-01 15:29:43 UTC</td>\n",
       "      <td>7601</td>\n",
       "      <td>1</td>\n",
       "      <td>9303</td>\n",
       "      <td>2</td>\n",
       "      <td>150</td>\n",
       "      <td>6621323</td>\n",
       "      <td>rail</td>\n",
       "      <td>-122.675465</td>\n",
       "      <td>45.524836</td>\n",
       "      <td>1</td>\n",
       "    </tr>\n",
       "    <tr>\n",
       "      <th>1</th>\n",
       "      <td>-263</td>\n",
       "      <td>2016-09-03 01:11:53 UTC</td>\n",
       "      <td>7601</td>\n",
       "      <td>1</td>\n",
       "      <td>9303</td>\n",
       "      <td>2</td>\n",
       "      <td>150</td>\n",
       "      <td>6621352</td>\n",
       "      <td>rail</td>\n",
       "      <td>-122.675465</td>\n",
       "      <td>45.524836</td>\n",
       "      <td>0</td>\n",
       "    </tr>\n",
       "    <tr>\n",
       "      <th>2</th>\n",
       "      <td>-305</td>\n",
       "      <td>2016-09-02 00:31:35 UTC</td>\n",
       "      <td>7601</td>\n",
       "      <td>1</td>\n",
       "      <td>9303</td>\n",
       "      <td>2</td>\n",
       "      <td>150</td>\n",
       "      <td>6621350</td>\n",
       "      <td>rail</td>\n",
       "      <td>-122.675465</td>\n",
       "      <td>45.524836</td>\n",
       "      <td>1</td>\n",
       "    </tr>\n",
       "    <tr>\n",
       "      <th>3</th>\n",
       "      <td>-393</td>\n",
       "      <td>2016-09-03 04:11:04 UTC</td>\n",
       "      <td>7601</td>\n",
       "      <td>1</td>\n",
       "      <td>9303</td>\n",
       "      <td>2</td>\n",
       "      <td>150</td>\n",
       "      <td>6621361</td>\n",
       "      <td>rail</td>\n",
       "      <td>-122.675465</td>\n",
       "      <td>45.524836</td>\n",
       "      <td>1</td>\n",
       "    </tr>\n",
       "    <tr>\n",
       "      <th>4</th>\n",
       "      <td>-176</td>\n",
       "      <td>2016-09-01 16:33:27 UTC</td>\n",
       "      <td>7601</td>\n",
       "      <td>1</td>\n",
       "      <td>9303</td>\n",
       "      <td>2</td>\n",
       "      <td>150</td>\n",
       "      <td>6621326</td>\n",
       "      <td>rail</td>\n",
       "      <td>-122.675465</td>\n",
       "      <td>45.524836</td>\n",
       "      <td>0</td>\n",
       "    </tr>\n",
       "  </tbody>\n",
       "</table>\n",
       "</div>"
      ],
      "text/plain": [
       "   delay                timestamp  lastLocID  lastStopSeq  nextLocID  \\\n",
       "0   -311  2016-09-01 15:29:43 UTC       7601            1       9303   \n",
       "1   -263  2016-09-03 01:11:53 UTC       7601            1       9303   \n",
       "2   -305  2016-09-02 00:31:35 UTC       7601            1       9303   \n",
       "3   -393  2016-09-03 04:11:04 UTC       7601            1       9303   \n",
       "4   -176  2016-09-01 16:33:27 UTC       7601            1       9303   \n",
       "\n",
       "   nextStopSeq  routeNumber   tripID  type  vehicle_location_longitude  \\\n",
       "0            2          150  6621323  rail                 -122.675465   \n",
       "1            2          150  6621352  rail                 -122.675465   \n",
       "2            2          150  6621350  rail                 -122.675465   \n",
       "3            2          150  6621361  rail                 -122.675465   \n",
       "4            2          150  6621326  rail                 -122.675465   \n",
       "\n",
       "   vehicle_location_latitude  on_time  \n",
       "0                  45.524836        1  \n",
       "1                  45.524836        0  \n",
       "2                  45.524836        1  \n",
       "3                  45.524836        1  \n",
       "4                  45.524836        0  "
      ]
     },
     "execution_count": 19,
     "metadata": {},
     "output_type": "execute_result"
    }
   ],
   "source": [
    "rail['on_time'] = np.where((rail['delay'] > -301) & (rail['delay'] < 61), 0, 1)\n",
    "rail.head()"
   ]
  },
  {
   "cell_type": "markdown",
   "metadata": {},
   "source": [
    "Calculate rate of on time trips."
   ]
  },
  {
   "cell_type": "code",
   "execution_count": 40,
   "metadata": {
    "collapsed": false
   },
   "outputs": [
    {
     "data": {
      "text/plain": [
       "0.8414102942487568"
      ]
     },
     "execution_count": 40,
     "metadata": {},
     "output_type": "execute_result"
    }
   ],
   "source": [
    "(len(rail[rail[\"on_time\"]==0]))/(len(rail[\"on_time\"]))"
   ]
  },
  {
   "cell_type": "markdown",
   "metadata": {},
   "source": [
    "About 84% of all rail trips were ontime. This is short of the 90% goal that Trimet has set. This leaves us with the question, what can be done to reach this goal?"
   ]
  },
  {
   "cell_type": "markdown",
   "metadata": {},
   "source": [
    "Below I briefly present an experiment that will test new doors on trains to see if they help reduce delayed trips."
   ]
  },
  {
   "cell_type": "markdown",
   "metadata": {},
   "source": [
    "According to Trimet, some delays are under their control (e.g. mechanical issues), while other delays are out of their control (e.g. autos blocking the tracks or the weather). However, Trimet (at least in their online materials) does not mention delays cause by passengers intentionally holding train doors open. All trains used by Trimet will automatically reopen if something is blocking them. Thus, I would like to test whether installing doors that will not reopen (expect in emergencies) would reduce delays.\n",
    "\n",
    "Hypothesis: Trains fitted with does that do not automatically close will have less delays than current trimet trains.\n",
    "\n",
    "Experiment plan:\n",
    "    I would implement an A/B test to test this hypothesis.\n",
    "\n",
    "    The A group would contain trains with doors that reopen.\n",
    "    The B group would contain trains with doors that do not reopen.\n",
    "\n",
    "    Both groups would run on all routes and at all times throughout the day.\n",
    "\n",
    "    I would run this test for a year to control for seasonal changes.\n",
    "\n",
    "Evaluation plan:\n",
    "    I would compare data for both groups to see if there was a significant difference between the two. I would also compare the data to previous years' data to provide more context. "
   ]
  }
 ],
 "metadata": {
  "kernelspec": {
   "display_name": "Python 3",
   "language": "python",
   "name": "python3"
  },
  "language_info": {
   "codemirror_mode": {
    "name": "ipython",
    "version": 3
   },
   "file_extension": ".py",
   "mimetype": "text/x-python",
   "name": "python",
   "nbconvert_exporter": "python",
   "pygments_lexer": "ipython3",
   "version": "3.5.5"
  }
 },
 "nbformat": 4,
 "nbformat_minor": 2
}
